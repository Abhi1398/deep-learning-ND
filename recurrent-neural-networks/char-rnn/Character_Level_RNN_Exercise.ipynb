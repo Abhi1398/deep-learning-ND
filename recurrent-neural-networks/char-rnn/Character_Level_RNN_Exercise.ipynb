{
 "cells": [
  {
   "cell_type": "markdown",
   "metadata": {},
   "source": [
    "# Character-Level LSTM in PyTorch\n",
    "\n",
    "In this notebook, I'll construct a character-level LSTM with PyTorch. The network will train character by character on some text, then generate new text character by character. As an example, I will train on Anna Karenina. **This model will be able to generate new text based on the text from the book!**\n",
    "\n",
    "This network is based off of Andrej Karpathy's [post on RNNs](http://karpathy.github.io/2015/05/21/rnn-effectiveness/) and [implementation in Torch](https://github.com/karpathy/char-rnn). Below is the general architecture of the character-wise RNN.\n",
    "\n",
    "<img src=\"assets/charseq.jpeg\" width=\"500\">"
   ]
  },
  {
   "cell_type": "markdown",
   "metadata": {},
   "source": [
    "First let's load in our required resources for data loading and model creation."
   ]
  },
  {
   "cell_type": "code",
   "execution_count": 1,
   "metadata": {},
   "outputs": [],
   "source": [
    "import numpy as np\n",
    "import torch\n",
    "from torch import nn\n",
    "import torch.nn.functional as F\n",
    "from pprint import pprint"
   ]
  },
  {
   "cell_type": "markdown",
   "metadata": {},
   "source": [
    "## Load in Data\n",
    "\n",
    "Then, we'll load the Anna Karenina text file and convert it into integers for our network to use. "
   ]
  },
  {
   "cell_type": "code",
   "execution_count": 2,
   "metadata": {},
   "outputs": [],
   "source": [
    "# open text file and read in data as `text`\n",
    "with open('data/anna.txt', 'r') as f:\n",
    "    text = f.read()"
   ]
  },
  {
   "cell_type": "markdown",
   "metadata": {},
   "source": [
    "Let's check out the first 100 characters, make sure everything is peachy. According to the [American Book Review](http://americanbookreview.org/100bestlines.asp), this is the 6th best first line of a book ever."
   ]
  },
  {
   "cell_type": "code",
   "execution_count": 3,
   "metadata": {},
   "outputs": [
    {
     "data": {
      "text/plain": [
       "'Chapter 1\\n\\n\\nHappy families are all alike; every unhappy family is unhappy in its own\\nway.\\n\\nEverythin'"
      ]
     },
     "execution_count": 3,
     "metadata": {},
     "output_type": "execute_result"
    }
   ],
   "source": [
    "text[:100]"
   ]
  },
  {
   "cell_type": "markdown",
   "metadata": {},
   "source": [
    "### Tokenization\n",
    "\n",
    "In the cells, below, I'm creating a couple **dictionaries** to convert the characters to and from integers. Encoding the characters as integers makes it easier to use as input in the network."
   ]
  },
  {
   "cell_type": "code",
   "execution_count": 4,
   "metadata": {},
   "outputs": [
    {
     "name": "stdout",
     "output_type": "stream",
     "text": [
      "('_', 'r', 'I', '$', 'N', 'c', '7', '1', 's', 'Q', '%', 'w', 'q', ' ', 'h', '(', 'K', 'U', '4', '&', '`', 't', ';', ':', 'V', 'Z', '-', 'x', '9', 'm', 'g', 'M', '8', 'e', 'O', 'l', 'd', 'u', 'k', 'b', 'a', 'T', 'F', 'D', 'W', '2', 'v', 'R', '.', '/', 'z', '3', 'f', 'n', 'S', 'A', '*', '\\n', 'G', 'y', 'X', ',', '5', '@', 'o', 'L', ')', 'H', '!', '?', \"'\", '6', 'p', 'J', '\"', 'B', '0', 'P', 'C', 'i', 'E', 'Y', 'j')\n",
      "{0: '_', 1: 'r', 2: 'I', 3: '$', 4: 'N', 5: 'c', 6: '7', 7: '1', 8: 's', 9: 'Q', 10: '%', 11: 'w', 12: 'q', 13: ' ', 14: 'h', 15: '(', 16: 'K', 17: 'U', 18: '4', 19: '&', 20: '`', 21: 't', 22: ';', 23: ':', 24: 'V', 25: 'Z', 26: '-', 27: 'x', 28: '9', 29: 'm', 30: 'g', 31: 'M', 32: '8', 33: 'e', 34: 'O', 35: 'l', 36: 'd', 37: 'u', 38: 'k', 39: 'b', 40: 'a', 41: 'T', 42: 'F', 43: 'D', 44: 'W', 45: '2', 46: 'v', 47: 'R', 48: '.', 49: '/', 50: 'z', 51: '3', 52: 'f', 53: 'n', 54: 'S', 55: 'A', 56: '*', 57: '\\n', 58: 'G', 59: 'y', 60: 'X', 61: ',', 62: '5', 63: '@', 64: 'o', 65: 'L', 66: ')', 67: 'H', 68: '!', 69: '?', 70: \"'\", 71: '6', 72: 'p', 73: 'J', 74: '\"', 75: 'B', 76: '0', 77: 'P', 78: 'C', 79: 'i', 80: 'E', 81: 'Y', 82: 'j'}\n",
      "{'_': 0, 'r': 1, 'I': 2, '$': 3, 'N': 4, 'c': 5, '7': 6, '1': 7, 's': 8, 'Q': 9, '%': 10, 'w': 11, 'q': 12, ' ': 13, 'h': 14, '(': 15, 'K': 16, 'U': 17, '4': 18, '&': 19, '`': 20, 't': 21, ';': 22, ':': 23, 'V': 24, 'Z': 25, '-': 26, 'x': 27, '9': 28, 'm': 29, 'g': 30, 'M': 31, '8': 32, 'e': 33, 'O': 34, 'l': 35, 'd': 36, 'u': 37, 'k': 38, 'b': 39, 'a': 40, 'T': 41, 'F': 42, 'D': 43, 'W': 44, '2': 45, 'v': 46, 'R': 47, '.': 48, '/': 49, 'z': 50, '3': 51, 'f': 52, 'n': 53, 'S': 54, 'A': 55, '*': 56, '\\n': 57, 'G': 58, 'y': 59, 'X': 60, ',': 61, '5': 62, '@': 63, 'o': 64, 'L': 65, ')': 66, 'H': 67, '!': 68, '?': 69, \"'\": 70, '6': 71, 'p': 72, 'J': 73, '\"': 74, 'B': 75, '0': 76, 'P': 77, 'C': 78, 'i': 79, 'E': 80, 'Y': 81, 'j': 82}\n",
      "[78 14 40 ...  8 48 57]\n"
     ]
    }
   ],
   "source": [
    "# encode the text and map each character to an integer and vice versa\n",
    "\n",
    "# we create two dictionaries:\n",
    "# 1. int2char, which maps integers to characters\n",
    "# 2. char2int, which maps characters to unique integers\n",
    "chars = tuple(set(text))\n",
    "print(chars)\n",
    "int2char = dict(enumerate(chars))\n",
    "print(int2char)\n",
    "char2int = {ch: ii for ii, ch in int2char.items()}\n",
    "print(char2int)\n",
    "# encode the text\n",
    "encoded = np.array([char2int[ch] for ch in text])\n",
    "print(encoded)"
   ]
  },
  {
   "cell_type": "markdown",
   "metadata": {},
   "source": [
    "And we can see those same characters from above, encoded as integers."
   ]
  },
  {
   "cell_type": "code",
   "execution_count": 5,
   "metadata": {},
   "outputs": [
    {
     "name": "stdout",
     "output_type": "stream",
     "text": [
      "[78 14 40 72 21 33  1 13  7 57 57 57 67 40 72 72 59 13 52 40 29 79 35 79\n",
      " 33  8 13 40  1 33 13 40 35 35 13 40 35 79 38 33 22 13 33 46 33  1 59 13\n",
      " 37 53 14 40 72 72 59 13 52 40 29 79 35 59 13 79  8 13 37 53 14 40 72 72\n",
      " 59 13 79 53 13 79 21  8 13 64 11 53 57 11 40 59 48 57 57 80 46 33  1 59\n",
      " 21 14 79 53]\n"
     ]
    }
   ],
   "source": [
    "print(encoded[:100])"
   ]
  },
  {
   "cell_type": "markdown",
   "metadata": {},
   "source": [
    "## Pre-processing the data\n",
    "\n",
    "As you can see in our char-RNN image above, our LSTM expects an input that is **one-hot encoded** meaning that each character is converted into an integer (via our created dictionary) and *then* converted into a column vector where only it's corresponding integer index will have the value of 1 and the rest of the vector will be filled with 0's. Since we're one-hot encoding the data, let's make a function to do that!\n"
   ]
  },
  {
   "cell_type": "code",
   "execution_count": 6,
   "metadata": {},
   "outputs": [],
   "source": [
    "def one_hot_encode(arr, n_labels):\n",
    "    #print('Input array')\n",
    "    #print(f'array: {arr}, \\nShape:{arr.shape}\\n')\n",
    "    \n",
    "    # Initialize the the encoded array\n",
    "    one_hot = np.zeros((np.multiply(*arr.shape), n_labels), dtype=np.float32)\n",
    "    #print('Initialize the the encoded array')\n",
    "    #print(f'array: {one_hot}, \\nShape:{one_hot.shape}\\n')\n",
    "    #print(f'[np.arange(one_hot.shape[0]), arr.flatten()] = [{np.arange(one_hot.shape[0])}, {arr.flatten()}]\\n')\n",
    "    # Fill the appropriate elements with ones\n",
    "    one_hot[np.arange(one_hot.shape[0]), arr.flatten()] = 1.\n",
    "    #print('Fill the appropriate elements with ones')\n",
    "    #print(f'array: {one_hot}, \\nShape:{one_hot.shape}\\n')\n",
    "    \n",
    "    # Finally reshape it to get back to the original array\n",
    "    one_hot = one_hot.reshape((*arr.shape, n_labels))\n",
    "    #print('Finally reshape it to get back to the original array')\n",
    "    #print(f'array: {one_hot}, \\nShape:{one_hot.shape}')\n",
    "    \n",
    "    return one_hot"
   ]
  },
  {
   "cell_type": "code",
   "execution_count": 7,
   "metadata": {},
   "outputs": [],
   "source": [
    "# check that the function works as expected\n",
    "test_seq = np.array([[3, 5, 1]])\n",
    "one_hot = one_hot_encode(test_seq, 8)"
   ]
  },
  {
   "cell_type": "markdown",
   "metadata": {},
   "source": [
    "## Making training mini-batches\n",
    "\n",
    "\n",
    "To train on this data, we also want to create mini-batches for training. Remember that we want our batches to be multiple sequences of some desired number of sequence steps. Considering a simple example, our batches would look like this:\n",
    "\n",
    "<img src=\"assets/sequence_batching@1x.png\" width=500px>\n",
    "\n",
    "\n",
    "<br>\n",
    "\n",
    "In this example, we'll take the encoded characters (passed in as the `arr` parameter) and split them into multiple sequences, given by `batch_size`. Each of our sequences will be `seq_length` long.\n",
    "\n",
    "### Creating Batches\n",
    "\n",
    "**1. The first thing we need to do is discard some of the text so we only have completely full mini-batches. **\n",
    "\n",
    "Each batch contains $N \\times M$ characters, where $N$ is the batch size (the number of sequences in a batch) and $M$ is the seq_length or number of time steps in a sequence. Then, to get the total number of batches, $K$, that we can make from the array `arr`, you divide the length of `arr` by the number of characters per batch. Once you know the number of batches, you can get the total number of characters to keep from `arr`, $N * M * K$.\n",
    "\n",
    "**2. After that, we need to split `arr` into $N$ batches. ** \n",
    "\n",
    "You can do this using `arr.reshape(size)` where `size` is a tuple containing the dimensions sizes of the reshaped array. We know we want $N$ sequences in a batch, so let's make that the size of the first dimension. For the second dimension, you can use `-1` as a placeholder in the size, it'll fill up the array with the appropriate data for you. After this, you should have an array that is $N \\times (M * K)$.\n",
    "\n",
    "**3. Now that we have this array, we can iterate through it to get our mini-batches. **\n",
    "\n",
    "The idea is each batch is a $N \\times M$ window on the $N \\times (M * K)$ array. For each subsequent batch, the window moves over by `seq_length`. We also want to create both the input and target arrays. Remember that the targets are just the inputs shifted over by one character. The way I like to do this window is use `range` to take steps of size `n_steps` from $0$ to `arr.shape[1]`, the total number of tokens in each sequence. That way, the integers you get from `range` always point to the start of a batch, and each window is `seq_length` wide.\n",
    "\n",
    "> Write the code for creating batches in the function below. The exercises in this notebook _will not be easy_. I've provided a notebook with solutions alongside this notebook. If you get stuck, checkout the solutions. The most important thing is that you don't copy and paste the code into here, **type out the solution code yourself.**"
   ]
  },
  {
   "cell_type": "code",
   "execution_count": 8,
   "metadata": {},
   "outputs": [],
   "source": [
    "def get_batches(arr, batch_size, seq_length):\n",
    "    '''Create a generator that returns batches of size\n",
    "       batch_size x seq_length from arr.\n",
    "       \n",
    "       Arguments\n",
    "       ---------\n",
    "       arr: Array you want to make batches from\n",
    "       batch_size: Batch size, the number of sequences per batch\n",
    "       seq_length: Number of encoded chars in a sequence\n",
    "    '''\n",
    "    \n",
    "    batch_size_total = batch_size * seq_length\n",
    "    # total number of batches we can make\n",
    "    n_batches = len(arr)//batch_size_total\n",
    "    \n",
    "    # Keep only enough characters to make full batches\n",
    "    arr = arr[:n_batches * batch_size_total]\n",
    "    # Reshape into batch_size rows\n",
    "    arr = arr.reshape((batch_size, -1))\n",
    "    \n",
    "    # iterate through the array, one sequence at a time\n",
    "    for n in range(0, arr.shape[1], seq_length):\n",
    "        # The features\n",
    "        x = arr[:, n:n+seq_length]\n",
    "        # The targets, shifted by one\n",
    "        y = np.zeros_like(x)\n",
    "        try:\n",
    "            y[:, :-1], y[:, -1] = x[:, 1:], arr[:, n+seq_length]\n",
    "        except IndexError:\n",
    "            y[:, :-1], y[:, -1] = x[:, 1:], arr[:, 0]\n",
    "        yield x, y"
   ]
  },
  {
   "cell_type": "markdown",
   "metadata": {},
   "source": [
    "### Test Your Implementation\n",
    "\n",
    "Now I'll make some data sets and we can check out what's going on as we batch data. Here, as an example, I'm going to use a batch size of 8 and 50 sequence steps."
   ]
  },
  {
   "cell_type": "code",
   "execution_count": 9,
   "metadata": {},
   "outputs": [],
   "source": [
    "batches = get_batches(encoded, 8, 50)\n",
    "x, y = next(batches)"
   ]
  },
  {
   "cell_type": "code",
   "execution_count": 10,
   "metadata": {},
   "outputs": [
    {
     "name": "stdout",
     "output_type": "stream",
     "text": [
      "x\n",
      " [[78 14 40 72 21 33  1 13  7 57]\n",
      " [ 8 64 53 13 21 14 40 21 13 40]\n",
      " [33 53 36 13 64  1 13 40 13 52]\n",
      " [ 8 13 21 14 33 13  5 14 79 33]\n",
      " [13  8 40 11 13 14 33  1 13 21]\n",
      " [ 5 37  8  8 79 64 53 13 40 53]\n",
      " [13 55 53 53 40 13 14 40 36 13]\n",
      " [34 39 35 64 53  8 38 59 48 13]]\n",
      "\n",
      "y\n",
      " [[14 40 72 21 33  1 13  7 57 57]\n",
      " [64 53 13 21 14 40 21 13 40 21]\n",
      " [53 36 13 64  1 13 40 13 52 64]\n",
      " [13 21 14 33 13  5 14 79 33 52]\n",
      " [ 8 40 11 13 14 33  1 13 21 33]\n",
      " [37  8  8 79 64 53 13 40 53 36]\n",
      " [55 53 53 40 13 14 40 36 13  8]\n",
      " [39 35 64 53  8 38 59 48 13 74]]\n"
     ]
    }
   ],
   "source": [
    "# printing out the first 10 items in a sequence\n",
    "print('x\\n', x[:10, :10])\n",
    "print('\\ny\\n', y[:10, :10])"
   ]
  },
  {
   "cell_type": "markdown",
   "metadata": {},
   "source": [
    "If you implemented `get_batches` correctly, the above output should look something like \n",
    "```\n",
    "x\n",
    " [[25  8 60 11 45 27 28 73  1  2]\n",
    " [17  7 20 73 45  8 60 45 73 60]\n",
    " [27 20 80 73  7 28 73 60 73 65]\n",
    " [17 73 45  8 27 73 66  8 46 27]\n",
    " [73 17 60 12 73  8 27 28 73 45]\n",
    " [66 64 17 17 46  7 20 73 60 20]\n",
    " [73 76 20 20 60 73  8 60 80 73]\n",
    " [47 35 43  7 20 17 24 50 37 73]]\n",
    "\n",
    "y\n",
    " [[ 8 60 11 45 27 28 73  1  2  2]\n",
    " [ 7 20 73 45  8 60 45 73 60 45]\n",
    " [20 80 73  7 28 73 60 73 65  7]\n",
    " [73 45  8 27 73 66  8 46 27 65]\n",
    " [17 60 12 73  8 27 28 73 45 27]\n",
    " [64 17 17 46  7 20 73 60 20 80]\n",
    " [76 20 20 60 73  8 60 80 73 17]\n",
    " [35 43  7 20 17 24 50 37 73 36]]\n",
    " ```\n",
    " although the exact numbers may be different. Check to make sure the data is shifted over one step for `y`."
   ]
  },
  {
   "cell_type": "markdown",
   "metadata": {},
   "source": [
    "---\n",
    "## Defining the network with PyTorch\n",
    "\n",
    "Below is where you'll define the network.\n",
    "\n",
    "<img src=\"assets/charRNN.png\" width=500px>\n",
    "\n",
    "Next, you'll use PyTorch to define the architecture of the network. We start by defining the layers and operations we want. Then, define a method for the forward pass. You've also been given a method for predicting characters."
   ]
  },
  {
   "cell_type": "markdown",
   "metadata": {},
   "source": [
    "### Model Structure\n",
    "\n",
    "In `__init__` the suggested structure is as follows:\n",
    "* Create and store the necessary dictionaries (this has been done for you)\n",
    "* Define an LSTM layer that takes as params: an input size (the number of characters), a hidden layer size `n_hidden`, a number of layers `n_layers`, a dropout probability `drop_prob`, and a batch_first boolean (True, since we are batching)\n",
    "* Define a dropout layer with `dropout_prob`\n",
    "* Define a fully-connected layer with params: input size `n_hidden` and output size (the number of characters)\n",
    "* Finally, initialize the weights (again, this has been given)\n",
    "\n",
    "Note that some parameters have been named and given in the `__init__` function, and we use them and store them by doing something like `self.drop_prob = drop_prob`."
   ]
  },
  {
   "cell_type": "markdown",
   "metadata": {},
   "source": [
    "---\n",
    "### LSTM Inputs/Outputs\n",
    "\n",
    "You can create a basic [LSTM layer](https://pytorch.org/docs/stable/nn.html#lstm) as follows\n",
    "\n",
    "```python\n",
    "self.lstm = nn.LSTM(input_size, n_hidden, n_layers, \n",
    "                            dropout=drop_prob, batch_first=True)\n",
    "```\n",
    "\n",
    "where `input_size` is the number of characters this cell expects to see as sequential input, and `n_hidden` is the number of units in the hidden layers in the cell. And we can add dropout by adding a dropout parameter with a specified probability; this will automatically add dropout to the inputs or outputs. Finally, in the `forward` function, we can stack up the LSTM cells into layers using `.view`. With this, you pass in a list of cells and it will send the output of one cell into the next cell.\n",
    "\n",
    "We also need to create an initial hidden state of all zeros. This is done like so\n",
    "\n",
    "```python\n",
    "self.init_hidden()\n",
    "```"
   ]
  },
  {
   "cell_type": "code",
   "execution_count": 11,
   "metadata": {},
   "outputs": [
    {
     "name": "stdout",
     "output_type": "stream",
     "text": [
      "No GPU available, training on CPU; consider making n_epochs very small.\n"
     ]
    }
   ],
   "source": [
    "# check if GPU is available\n",
    "train_on_gpu = torch.cuda.is_available()\n",
    "if(train_on_gpu):\n",
    "    print('Training on GPU!')\n",
    "else: \n",
    "    print('No GPU available, training on CPU; consider making n_epochs very small.')"
   ]
  },
  {
   "cell_type": "code",
   "execution_count": 12,
   "metadata": {},
   "outputs": [],
   "source": [
    "class CharRNN(nn.Module):\n",
    "    \n",
    "    def __init__(self, tokens, n_hidden=256, n_layers=2,\n",
    "                               drop_prob=0.5, lr=0.001):\n",
    "        super().__init__()\n",
    "        self.drop_prob = drop_prob\n",
    "        self.n_layers = n_layers\n",
    "        self.n_hidden = n_hidden\n",
    "        self.lr = lr\n",
    "        \n",
    "        # creating character dictionaries\n",
    "        self.chars = tokens\n",
    "        self.int2char = dict(enumerate(self.chars))\n",
    "        self.char2int = {ch: ii for ii, ch in self.int2char.items()}\n",
    "                \n",
    "        ## define the layers of the model\n",
    "        \n",
    "        self.lstm = nn.LSTM(len(self.chars), n_hidden, n_layers, \n",
    "                            dropout=drop_prob, batch_first=True)\n",
    "        \n",
    "        ## define a dropout layer, self.dropout\n",
    "        self.dropout = nn.Dropout(p=drop_prob)\n",
    "        \n",
    "        ## define the final, fully-connected output layer, self.fc\n",
    "        self.fc = nn.Linear(n_hidden, len(self.chars))\n",
    "        \n",
    "        # initialize the weights\n",
    "        self.init_weights()\n",
    "    \n",
    "    def forward(self, x, hidden):\n",
    "        ''' Forward pass through the network. \n",
    "            These inputs are x, and the hidden/cell state `hidden`. '''\n",
    "                \n",
    "        ## Get the outputs and the new hidden state from the lstm\n",
    "        out, hidden = self.lstm(x, hidden)\n",
    "        out = self.dropout(out)\n",
    "        out = out.contiguous().view(-1, self.n_hidden)\n",
    "        out = self.fc(out)\n",
    "        \n",
    "        # return the final output and the hidden state\n",
    "        return out, hidden\n",
    "    \n",
    "    def init_weights(self):\n",
    "        ''' Initialize weights for fully connected layer '''\n",
    "        initrange = 0.1\n",
    "        \n",
    "        # Set bias tensor to all zeros\n",
    "        self.fc.bias.data.fill_(0)\n",
    "        # FC weights as random uniform\n",
    "        self.fc.weight.data.uniform_(-1, 1)\n",
    "        \n",
    "        # init forget gate bias to 1\n",
    "        for names in self.lstm._all_weights:\n",
    "            for name in filter(lambda n: \"bias\" in n,  names):\n",
    "                bias = getattr(self.lstm, name)\n",
    "                n = bias.size(0)\n",
    "                start, end = n//4, n//2\n",
    "                bias.data[start:end].fill_(1.)\n",
    "        # \"Importantly, adding a bias of size 1 significantly improved \n",
    "        # the performance of the LSTM on tasks where it fell behind the \n",
    "        # GRU and MUT1. Thus we recommend adding a bias of 1 to the forget \n",
    "        # gate of every LSTM in every application; it is easy to do often \n",
    "        # results in better performance on our tasks. This adjustment is \n",
    "        # the simple improvement over the LSTM that we set out to discover.\"\n",
    "        # http://proceedings.mlr.press/v37/jozefowicz15.pdf\n",
    "        # https://discuss.pytorch.org/t/set-forget-gate-bias-of-lstm/1745/4\n",
    "    \n",
    "    def init_hidden(self, batch_size):\n",
    "        ''' Initializes hidden state '''\n",
    "        # Create two new tensors with sizes n_layers x batch_size x n_hidden,\n",
    "        # initialized to zero, for hidden state and cell state of LSTM\n",
    "        weight = next(self.parameters()).data\n",
    "        \n",
    "        if (train_on_gpu):\n",
    "            hidden = (weight.new(self.n_layers, batch_size, self.n_hidden).zero_().cuda(),\n",
    "                  weight.new(self.n_layers, batch_size, self.n_hidden).zero_().cuda())\n",
    "        else:\n",
    "            hidden = (weight.new(self.n_layers, batch_size, self.n_hidden).zero_(),\n",
    "                      weight.new(self.n_layers, batch_size, self.n_hidden).zero_())\n",
    "        \n",
    "        return hidden\n",
    "        "
   ]
  },
  {
   "cell_type": "markdown",
   "metadata": {},
   "source": [
    "## Time to train\n",
    "\n",
    "The train function gives us the ability to set the number of epochs, the learning rate, and other parameters.\n",
    "\n",
    "Below we're using an Adam optimizer and cross entropy loss since we are looking at character class scores as output. We calculate the loss and perform backpropagation, as usual!\n",
    "\n",
    "A couple of details about training: \n",
    ">* Within the batch loop, we detach the hidden state from its history; this time setting it equal to a new *tuple* variable because an LSTM has a hidden state that is a tuple of the hidden and cell states.\n",
    "* We use [`clip_grad_norm_`](https://pytorch.org/docs/stable/_modules/torch/nn/utils/clip_grad.html) to help prevent exploding gradients."
   ]
  },
  {
   "cell_type": "code",
   "execution_count": 13,
   "metadata": {},
   "outputs": [],
   "source": [
    "def train(net, data, epochs=10, batch_size=10, seq_length=50, lr=0.001, clip=5, val_frac=0.1, print_every=10):\n",
    "    ''' Training a network \n",
    "    \n",
    "        Arguments\n",
    "        ---------\n",
    "        \n",
    "        net: CharRNN network\n",
    "        data: text data to train the network\n",
    "        epochs: Number of epochs to train\n",
    "        batch_size: Number of mini-sequences per mini-batch, aka batch size\n",
    "        seq_length: Number of character steps per mini-batch\n",
    "        lr: learning rate\n",
    "        clip: gradient clipping\n",
    "        val_frac: Fraction of data to hold out for validation\n",
    "        print_every: Number of steps for printing training and validation loss\n",
    "    \n",
    "    '''\n",
    "    net.train()\n",
    "    \n",
    "    opt = torch.optim.Adam(net.parameters(), lr=lr)\n",
    "    criterion = nn.CrossEntropyLoss()\n",
    "    \n",
    "    # create training and validation data\n",
    "    val_idx = int(len(data)*(1-val_frac))\n",
    "    data, val_data = data[:val_idx], data[val_idx:]\n",
    "    \n",
    "    if(train_on_gpu):\n",
    "        net.cuda()\n",
    "    \n",
    "    counter = 0\n",
    "    n_chars = len(net.chars)\n",
    "    for e in range(epochs):\n",
    "        # initialize hidden state\n",
    "        h = net.init_hidden(batch_size)\n",
    "        \n",
    "        for x, y in get_batches(data, batch_size, seq_length):\n",
    "            counter += 1\n",
    "            \n",
    "            # One-hot encode our data and make them Torch tensors\n",
    "            x = one_hot_encode(x, n_chars)\n",
    "            inputs, targets = torch.from_numpy(x), torch.from_numpy(y)\n",
    "            \n",
    "            if(train_on_gpu):\n",
    "                inputs, targets = inputs.cuda(), targets.cuda()\n",
    "\n",
    "            # Creating new variables for the hidden state, otherwise\n",
    "            # we'd backprop through the entire training history\n",
    "            h = tuple([each.data for each in h])\n",
    "\n",
    "            # zero accumulated gradients\n",
    "            net.zero_grad()\n",
    "            \n",
    "            # get the output from the model\n",
    "            output, h = net(inputs, h)\n",
    "            \n",
    "            # calculate the loss and perform backprop\n",
    "            loss = criterion(output, targets.view(batch_size*seq_length))\n",
    "            loss.backward()\n",
    "            # `clip_grad_norm` helps prevent the exploding gradient problem in RNNs / LSTMs.\n",
    "            nn.utils.clip_grad_norm_(net.parameters(), clip)\n",
    "            opt.step()\n",
    "            \n",
    "            # loss stats\n",
    "            if counter % print_every == 0:\n",
    "                # Get validation loss\n",
    "                val_h = net.init_hidden(batch_size)\n",
    "                val_losses = []\n",
    "                net.eval()\n",
    "                for x, y in get_batches(val_data, batch_size, seq_length):\n",
    "                    # One-hot encode our data and make them Torch tensors\n",
    "                    x = one_hot_encode(x, n_chars)\n",
    "                    x, y = torch.from_numpy(x), torch.from_numpy(y)\n",
    "                    \n",
    "                    # Creating new variables for the hidden state, otherwise\n",
    "                    # we'd backprop through the entire training history\n",
    "                    val_h = tuple([each.data for each in val_h])\n",
    "                    \n",
    "                    inputs, targets = x, y\n",
    "                    if(train_on_gpu):\n",
    "                        inputs, targets = inputs.cuda(), targets.cuda()\n",
    "\n",
    "                    output, val_h = net(inputs, val_h)\n",
    "                    val_loss = criterion(output, targets.view(batch_size*seq_length))\n",
    "                \n",
    "                    val_losses.append(val_loss.item())\n",
    "                \n",
    "                net.train() # reset to train mode after iterationg through validation data\n",
    "                \n",
    "                print(\"Epoch: {}/{}...\".format(e+1, epochs),\n",
    "                      \"Step: {}...\".format(counter),\n",
    "                      \"Loss: {:.4f}...\".format(loss.item()),\n",
    "                      \"Val Loss: {:.4f}\".format(np.mean(val_losses)))"
   ]
  },
  {
   "cell_type": "markdown",
   "metadata": {},
   "source": [
    "## Instantiating the model\n",
    "\n",
    "Now we can actually train the network. First we'll create the network itself, with some given hyperparameters. Then, define the mini-batches sizes, and start training!"
   ]
  },
  {
   "cell_type": "code",
   "execution_count": 14,
   "metadata": {},
   "outputs": [
    {
     "name": "stdout",
     "output_type": "stream",
     "text": [
      "CharRNN(\n",
      "  (lstm): LSTM(83, 512, num_layers=2, batch_first=True, dropout=0.5)\n",
      "  (dropout): Dropout(p=0.5)\n",
      "  (fc): Linear(in_features=512, out_features=83, bias=True)\n",
      ")\n"
     ]
    }
   ],
   "source": [
    "## set you model hyperparameters\n",
    "# define and print the net\n",
    "n_hidden= 512\n",
    "n_layers= 2\n",
    "\n",
    "net = CharRNN(chars, n_hidden, n_layers)\n",
    "print(net)"
   ]
  },
  {
   "cell_type": "markdown",
   "metadata": {},
   "source": [
    "### Set your training hyperparameters!"
   ]
  },
  {
   "cell_type": "code",
   "execution_count": 15,
   "metadata": {
    "scrolled": false
   },
   "outputs": [
    {
     "name": "stdout",
     "output_type": "stream",
     "text": [
      "Epoch: 1/10... Step: 10... Loss: 3.2140... Val Loss: 3.1479\n",
      "Epoch: 1/10... Step: 20... Loss: 3.1417... Val Loss: 3.1275\n",
      "Epoch: 1/10... Step: 30... Loss: 3.1424... Val Loss: 3.1252\n",
      "Epoch: 1/10... Step: 40... Loss: 3.1105... Val Loss: 3.1222\n",
      "Epoch: 1/10... Step: 50... Loss: 3.1416... Val Loss: 3.1205\n",
      "Epoch: 1/10... Step: 60... Loss: 3.1198... Val Loss: 3.1188\n",
      "Epoch: 1/10... Step: 70... Loss: 3.1097... Val Loss: 3.1185\n",
      "Epoch: 1/10... Step: 80... Loss: 3.1257... Val Loss: 3.1167\n",
      "Epoch: 1/10... Step: 90... Loss: 3.1260... Val Loss: 3.1135\n",
      "Epoch: 1/10... Step: 100... Loss: 3.1164... Val Loss: 3.1107\n",
      "Epoch: 1/10... Step: 110... Loss: 3.1144... Val Loss: 3.1033\n",
      "Epoch: 1/10... Step: 120... Loss: 3.0851... Val Loss: 3.0902\n",
      "Epoch: 1/10... Step: 130... Loss: 3.0848... Val Loss: 3.0687\n",
      "Epoch: 2/10... Step: 140... Loss: 3.0940... Val Loss: 3.0284\n",
      "Epoch: 2/10... Step: 150... Loss: 3.0079... Val Loss: 2.9664\n",
      "Epoch: 2/10... Step: 160... Loss: 2.9296... Val Loss: 2.9031\n",
      "Epoch: 2/10... Step: 170... Loss: 2.8316... Val Loss: 2.8114\n",
      "Epoch: 2/10... Step: 180... Loss: 2.7902... Val Loss: 2.7351\n",
      "Epoch: 2/10... Step: 190... Loss: 2.7715... Val Loss: 2.7532\n",
      "Epoch: 2/10... Step: 200... Loss: 2.7017... Val Loss: 2.6619\n",
      "Epoch: 2/10... Step: 210... Loss: 2.6437... Val Loss: 2.6032\n",
      "Epoch: 2/10... Step: 220... Loss: 2.6154... Val Loss: 2.5693\n",
      "Epoch: 2/10... Step: 230... Loss: 2.5674... Val Loss: 2.5381\n",
      "Epoch: 2/10... Step: 240... Loss: 2.5607... Val Loss: 2.5029\n",
      "Epoch: 2/10... Step: 250... Loss: 2.4971... Val Loss: 2.4777\n",
      "Epoch: 2/10... Step: 260... Loss: 2.4858... Val Loss: 2.4661\n",
      "Epoch: 2/10... Step: 270... Loss: 2.4706... Val Loss: 2.4396\n",
      "Epoch: 3/10... Step: 280... Loss: 2.4653... Val Loss: 2.4184\n",
      "Epoch: 3/10... Step: 290... Loss: 2.4440... Val Loss: 2.4003\n",
      "Epoch: 3/10... Step: 300... Loss: 2.4309... Val Loss: 2.3872\n",
      "Epoch: 3/10... Step: 310... Loss: 2.4152... Val Loss: 2.3679\n",
      "Epoch: 3/10... Step: 320... Loss: 2.4110... Val Loss: 2.3575\n",
      "Epoch: 3/10... Step: 330... Loss: 2.3653... Val Loss: 2.3424\n",
      "Epoch: 3/10... Step: 340... Loss: 2.3637... Val Loss: 2.3289\n",
      "Epoch: 3/10... Step: 350... Loss: 2.3641... Val Loss: 2.3161\n",
      "Epoch: 3/10... Step: 360... Loss: 2.3057... Val Loss: 2.2990\n",
      "Epoch: 3/10... Step: 370... Loss: 2.3282... Val Loss: 2.2929\n",
      "Epoch: 3/10... Step: 380... Loss: 2.3023... Val Loss: 2.2774\n",
      "Epoch: 3/10... Step: 390... Loss: 2.2904... Val Loss: 2.2617\n",
      "Epoch: 3/10... Step: 400... Loss: 2.2702... Val Loss: 2.2532\n",
      "Epoch: 3/10... Step: 410... Loss: 2.2866... Val Loss: 2.2364\n",
      "Epoch: 4/10... Step: 420... Loss: 2.2591... Val Loss: 2.2342\n",
      "Epoch: 4/10... Step: 430... Loss: 2.2470... Val Loss: 2.2188\n",
      "Epoch: 4/10... Step: 440... Loss: 2.2425... Val Loss: 2.2052\n",
      "Epoch: 4/10... Step: 450... Loss: 2.1895... Val Loss: 2.1914\n",
      "Epoch: 4/10... Step: 460... Loss: 2.1993... Val Loss: 2.1796\n",
      "Epoch: 4/10... Step: 470... Loss: 2.2085... Val Loss: 2.1710\n",
      "Epoch: 4/10... Step: 480... Loss: 2.1834... Val Loss: 2.1619\n",
      "Epoch: 4/10... Step: 490... Loss: 2.1936... Val Loss: 2.1478\n",
      "Epoch: 4/10... Step: 500... Loss: 2.1912... Val Loss: 2.1408\n",
      "Epoch: 4/10... Step: 510... Loss: 2.1779... Val Loss: 2.1297\n",
      "Epoch: 4/10... Step: 520... Loss: 2.1925... Val Loss: 2.1213\n",
      "Epoch: 4/10... Step: 530... Loss: 2.1394... Val Loss: 2.1095\n",
      "Epoch: 4/10... Step: 540... Loss: 2.1084... Val Loss: 2.0971\n",
      "Epoch: 4/10... Step: 550... Loss: 2.1460... Val Loss: 2.0900\n",
      "Epoch: 5/10... Step: 560... Loss: 2.1190... Val Loss: 2.0835\n",
      "Epoch: 5/10... Step: 570... Loss: 2.1001... Val Loss: 2.0790\n",
      "Epoch: 5/10... Step: 580... Loss: 2.0786... Val Loss: 2.0705\n",
      "Epoch: 5/10... Step: 590... Loss: 2.0925... Val Loss: 2.0523\n",
      "Epoch: 5/10... Step: 600... Loss: 2.0597... Val Loss: 2.0450\n",
      "Epoch: 5/10... Step: 610... Loss: 2.0610... Val Loss: 2.0348\n",
      "Epoch: 5/10... Step: 620... Loss: 2.0570... Val Loss: 2.0306\n",
      "Epoch: 5/10... Step: 630... Loss: 2.0869... Val Loss: 2.0177\n",
      "Epoch: 5/10... Step: 640... Loss: 2.0526... Val Loss: 2.0118\n",
      "Epoch: 5/10... Step: 650... Loss: 2.0291... Val Loss: 2.0023\n",
      "Epoch: 5/10... Step: 660... Loss: 1.9879... Val Loss: 2.0004\n",
      "Epoch: 5/10... Step: 670... Loss: 2.0445... Val Loss: 1.9877\n",
      "Epoch: 5/10... Step: 680... Loss: 2.0277... Val Loss: 1.9815\n",
      "Epoch: 5/10... Step: 690... Loss: 1.9965... Val Loss: 1.9779\n",
      "Epoch: 6/10... Step: 700... Loss: 2.0016... Val Loss: 1.9689\n",
      "Epoch: 6/10... Step: 710... Loss: 1.9975... Val Loss: 1.9602\n",
      "Epoch: 6/10... Step: 720... Loss: 1.9730... Val Loss: 1.9572\n",
      "Epoch: 6/10... Step: 730... Loss: 1.9859... Val Loss: 1.9490\n",
      "Epoch: 6/10... Step: 740... Loss: 1.9733... Val Loss: 1.9440\n",
      "Epoch: 6/10... Step: 750... Loss: 1.9388... Val Loss: 1.9384\n",
      "Epoch: 6/10... Step: 760... Loss: 1.9699... Val Loss: 1.9290\n",
      "Epoch: 6/10... Step: 770... Loss: 1.9556... Val Loss: 1.9214\n",
      "Epoch: 6/10... Step: 780... Loss: 1.9486... Val Loss: 1.9191\n",
      "Epoch: 6/10... Step: 790... Loss: 1.9491... Val Loss: 1.9102\n",
      "Epoch: 6/10... Step: 800... Loss: 1.9368... Val Loss: 1.9067\n",
      "Epoch: 6/10... Step: 810... Loss: 1.9387... Val Loss: 1.9009\n",
      "Epoch: 6/10... Step: 820... Loss: 1.9193... Val Loss: 1.8964\n",
      "Epoch: 6/10... Step: 830... Loss: 1.9500... Val Loss: 1.8862\n",
      "Epoch: 7/10... Step: 840... Loss: 1.9025... Val Loss: 1.8838\n",
      "Epoch: 7/10... Step: 850... Loss: 1.9134... Val Loss: 1.8767\n",
      "Epoch: 7/10... Step: 860... Loss: 1.9040... Val Loss: 1.8725\n",
      "Epoch: 7/10... Step: 870... Loss: 1.9107... Val Loss: 1.8706\n",
      "Epoch: 7/10... Step: 880... Loss: 1.8995... Val Loss: 1.8644\n",
      "Epoch: 7/10... Step: 890... Loss: 1.9005... Val Loss: 1.8612\n",
      "Epoch: 7/10... Step: 900... Loss: 1.8724... Val Loss: 1.8546\n",
      "Epoch: 7/10... Step: 910... Loss: 1.8630... Val Loss: 1.8459\n",
      "Epoch: 7/10... Step: 920... Loss: 1.8796... Val Loss: 1.8436\n",
      "Epoch: 7/10... Step: 930... Loss: 1.8689... Val Loss: 1.8399\n",
      "Epoch: 7/10... Step: 940... Loss: 1.8668... Val Loss: 1.8345\n",
      "Epoch: 7/10... Step: 950... Loss: 1.8797... Val Loss: 1.8317\n",
      "Epoch: 7/10... Step: 960... Loss: 1.8765... Val Loss: 1.8283\n",
      "Epoch: 7/10... Step: 970... Loss: 1.8684... Val Loss: 1.8274\n",
      "Epoch: 8/10... Step: 980... Loss: 1.8627... Val Loss: 1.8159\n",
      "Epoch: 8/10... Step: 990... Loss: 1.8489... Val Loss: 1.8148\n",
      "Epoch: 8/10... Step: 1000... Loss: 1.8507... Val Loss: 1.8079\n",
      "Epoch: 8/10... Step: 1010... Loss: 1.8752... Val Loss: 1.8068\n",
      "Epoch: 8/10... Step: 1020... Loss: 1.8435... Val Loss: 1.8027\n",
      "Epoch: 8/10... Step: 1030... Loss: 1.8260... Val Loss: 1.7983\n",
      "Epoch: 8/10... Step: 1040... Loss: 1.8324... Val Loss: 1.7951\n",
      "Epoch: 8/10... Step: 1050... Loss: 1.8363... Val Loss: 1.7875\n",
      "Epoch: 8/10... Step: 1060... Loss: 1.8326... Val Loss: 1.7843\n",
      "Epoch: 8/10... Step: 1070... Loss: 1.8320... Val Loss: 1.7801\n",
      "Epoch: 8/10... Step: 1080... Loss: 1.8266... Val Loss: 1.7811\n",
      "Epoch: 8/10... Step: 1090... Loss: 1.8049... Val Loss: 1.7776\n",
      "Epoch: 8/10... Step: 1100... Loss: 1.8058... Val Loss: 1.7701\n",
      "Epoch: 8/10... Step: 1110... Loss: 1.8071... Val Loss: 1.7632\n",
      "Epoch: 9/10... Step: 1120... Loss: 1.8125... Val Loss: 1.7610\n",
      "Epoch: 9/10... Step: 1130... Loss: 1.8058... Val Loss: 1.7597\n",
      "Epoch: 9/10... Step: 1140... Loss: 1.8089... Val Loss: 1.7544\n",
      "Epoch: 9/10... Step: 1150... Loss: 1.8102... Val Loss: 1.7560\n",
      "Epoch: 9/10... Step: 1160... Loss: 1.7687... Val Loss: 1.7518\n",
      "Epoch: 9/10... Step: 1170... Loss: 1.7749... Val Loss: 1.7470\n",
      "Epoch: 9/10... Step: 1180... Loss: 1.7851... Val Loss: 1.7451\n",
      "Epoch: 9/10... Step: 1190... Loss: 1.8082... Val Loss: 1.7396\n",
      "Epoch: 9/10... Step: 1200... Loss: 1.7476... Val Loss: 1.7360\n",
      "Epoch: 9/10... Step: 1210... Loss: 1.7740... Val Loss: 1.7314\n",
      "Epoch: 9/10... Step: 1220... Loss: 1.7665... Val Loss: 1.7357\n",
      "Epoch: 9/10... Step: 1230... Loss: 1.7420... Val Loss: 1.7286\n",
      "Epoch: 9/10... Step: 1240... Loss: 1.7540... Val Loss: 1.7241\n",
      "Epoch: 9/10... Step: 1250... Loss: 1.7627... Val Loss: 1.7222\n",
      "Epoch: 10/10... Step: 1260... Loss: 1.7629... Val Loss: 1.7194\n",
      "Epoch: 10/10... Step: 1270... Loss: 1.7552... Val Loss: 1.7164\n",
      "Epoch: 10/10... Step: 1280... Loss: 1.7627... Val Loss: 1.7120\n",
      "Epoch: 10/10... Step: 1290... Loss: 1.7605... Val Loss: 1.7121\n",
      "Epoch: 10/10... Step: 1300... Loss: 1.7514... Val Loss: 1.7143\n",
      "Epoch: 10/10... Step: 1310... Loss: 1.7594... Val Loss: 1.7083\n",
      "Epoch: 10/10... Step: 1320... Loss: 1.7363... Val Loss: 1.7033\n",
      "Epoch: 10/10... Step: 1330... Loss: 1.7291... Val Loss: 1.6994\n",
      "Epoch: 10/10... Step: 1340... Loss: 1.7247... Val Loss: 1.6973\n"
     ]
    },
    {
     "name": "stdout",
     "output_type": "stream",
     "text": [
      "Epoch: 10/10... Step: 1350... Loss: 1.7251... Val Loss: 1.6940\n",
      "Epoch: 10/10... Step: 1360... Loss: 1.7248... Val Loss: 1.6972\n",
      "Epoch: 10/10... Step: 1370... Loss: 1.7096... Val Loss: 1.6899\n",
      "Epoch: 10/10... Step: 1380... Loss: 1.7472... Val Loss: 1.6882\n",
      "Epoch: 10/10... Step: 1390... Loss: 1.7418... Val Loss: 1.6862\n"
     ]
    }
   ],
   "source": [
    "batch_size = 128\n",
    "seq_length = 100\n",
    "n_epochs =  10\n",
    "\n",
    "# train the model\n",
    "train(net, encoded, epochs=n_epochs, batch_size=batch_size, seq_length=seq_length, lr=0.001, print_every=10)"
   ]
  },
  {
   "cell_type": "markdown",
   "metadata": {},
   "source": [
    "## Getting the best model\n",
    "\n",
    "To set your hyperparameters to get the best performance, you'll want to watch the training and validation losses. If your training loss is much lower than the validation loss, you're overfitting. Increase regularization (more dropout) or use a smaller network. If the training and validation losses are close, you're underfitting so you can increase the size of the network."
   ]
  },
  {
   "cell_type": "markdown",
   "metadata": {},
   "source": [
    "## Hyperparameters\n",
    "\n",
    "Here are the hyperparameters for the network.\n",
    "\n",
    "In defining the model:\n",
    "* `n_hidden` - The number of units in the hidden layers.\n",
    "* `n_layers` - Number of hidden LSTM layers to use.\n",
    "\n",
    "We assume that dropout probability and learning rate will be kept at the default, in this example.\n",
    "\n",
    "And in training:\n",
    "* `batch_size` - Number of sequences running through the network in one pass.\n",
    "* `seq_length` - Number of characters in the sequence the network is trained on. Larger is better typically, the network will learn more long range dependencies. But it takes longer to train. 100 is typically a good number here.\n",
    "* `lr` - Learning rate for training\n",
    "\n",
    "Here's some good advice from Andrej Karpathy on training the network. I'm going to copy it in here for your benefit, but also link to [where it originally came from](https://github.com/karpathy/char-rnn#tips-and-tricks).\n",
    "\n",
    "> ## Tips and Tricks\n",
    "\n",
    ">### Monitoring Validation Loss vs. Training Loss\n",
    ">If you're somewhat new to Machine Learning or Neural Networks it can take a bit of expertise to get good models. The most important quantity to keep track of is the difference between your training loss (printed during training) and the validation loss (printed once in a while when the RNN is run on the validation data (by default every 1000 iterations)). In particular:\n",
    "\n",
    "> - If your training loss is much lower than validation loss then this means the network might be **overfitting**. Solutions to this are to decrease your network size, or to increase dropout. For example you could try dropout of 0.5 and so on.\n",
    "> - If your training/validation loss are about equal then your model is **underfitting**. Increase the size of your model (either number of layers or the raw number of neurons per layer)\n",
    "\n",
    "> ### Approximate number of parameters\n",
    "\n",
    "> The two most important parameters that control the model are `n_hidden` and `n_layers`. I would advise that you always use `n_layers` of either 2/3. The `n_hidden` can be adjusted based on how much data you have. The two important quantities to keep track of here are:\n",
    "\n",
    "> - The number of parameters in your model. This is printed when you start training.\n",
    "> - The size of your dataset. 1MB file is approximately 1 million characters.\n",
    "\n",
    ">These two should be about the same order of magnitude. It's a little tricky to tell. Here are some examples:\n",
    "\n",
    "> - I have a 100MB dataset and I'm using the default parameter settings (which currently print 150K parameters). My data size is significantly larger (100 mil >> 0.15 mil), so I expect to heavily underfit. I am thinking I can comfortably afford to make `n_hidden` larger.\n",
    "> - I have a 10MB dataset and running a 10 million parameter model. I'm slightly nervous and I'm carefully monitoring my validation loss. If it's larger than my training loss then I may want to try to increase dropout a bit and see if that helps the validation loss.\n",
    "\n",
    "> ### Best models strategy\n",
    "\n",
    ">The winning strategy to obtaining very good models (if you have the compute time) is to always err on making the network larger (as large as you're willing to wait for it to compute) and then try different dropout values (between 0,1). Whatever model has the best validation performance (the loss, written in the checkpoint filename, low is good) is the one you should use in the end.\n",
    "\n",
    ">It is very common in deep learning to run many different models with many different hyperparameter settings, and in the end take whatever checkpoint gave the best validation performance.\n",
    "\n",
    ">By the way, the size of your training and validation splits are also parameters. Make sure you have a decent amount of data in your validation set or otherwise the validation performance will be noisy and not very informative."
   ]
  },
  {
   "cell_type": "markdown",
   "metadata": {},
   "source": [
    "## Checkpoint\n",
    "\n",
    "After training, we'll save the model so we can load it again later if we need too. Here I'm saving the parameters needed to create the same architecture, the hidden layer hyperparameters and the text characters."
   ]
  },
  {
   "cell_type": "code",
   "execution_count": 16,
   "metadata": {},
   "outputs": [],
   "source": [
    "# change the name, for saving multiple files\n",
    "model_name = 'rnn_x_epoch.net'\n",
    "\n",
    "checkpoint = {'n_hidden': net.n_hidden,\n",
    "              'n_layers': net.n_layers,\n",
    "              'state_dict': net.state_dict(),\n",
    "              'tokens': net.chars}\n",
    "\n",
    "with open(model_name, 'wb') as f:\n",
    "    torch.save(checkpoint, f)"
   ]
  },
  {
   "cell_type": "markdown",
   "metadata": {},
   "source": [
    "---\n",
    "## Making Predictions\n",
    "\n",
    "Now that the model is trained, we'll want to sample from it and make predictions about next characters! To sample, we pass in a character and have the network predict the next character. Then we take that character, pass it back in, and get another predicted character. Just keep doing this and you'll generate a bunch of text!\n",
    "\n",
    "### A note on the `predict`  function\n",
    "\n",
    "The output of our RNN is from a fully-connected layer and it outputs a **distribution of next-character scores**.\n",
    "\n",
    "> To actually get the next character, we apply a softmax function, which gives us a *probability* distribution that we can then sample to predict the next character.\n",
    "\n",
    "### Top K sampling\n",
    "\n",
    "Our predictions come from a categorical probability distribution over all the possible characters. We can make the sample text and make it more reasonable to handle (with less variables) by only considering some $K$ most probable characters. This will prevent the network from giving us completely absurd characters while allowing it to introduce some noise and randomness into the sampled text. Read more about [topk, here](https://pytorch.org/docs/stable/torch.html#torch.topk).\n"
   ]
  },
  {
   "cell_type": "code",
   "execution_count": 17,
   "metadata": {},
   "outputs": [],
   "source": [
    "def predict(net, char, h=None, top_k=None):\n",
    "        ''' Given a character, predict the next character.\n",
    "            Returns the predicted character and the hidden state.\n",
    "        '''\n",
    "        \n",
    "        # tensor inputs\n",
    "        x = np.array([[net.char2int[char]]])\n",
    "        x = one_hot_encode(x, len(net.chars))\n",
    "        inputs = torch.from_numpy(x)\n",
    "        \n",
    "        if(train_on_gpu):\n",
    "            inputs = inputs.cuda()\n",
    "        \n",
    "        # detach hidden state from history\n",
    "        h = tuple([each.data for each in h])\n",
    "        # get the output of the model\n",
    "        out, h = net(inputs, h)\n",
    "\n",
    "        # get the character probabilities\n",
    "        p = F.softmax(out, dim=1).data\n",
    "        if(train_on_gpu):\n",
    "            p = p.cpu() # move to cpu\n",
    "        \n",
    "        # get top characters\n",
    "        if top_k is None:\n",
    "            top_ch = np.arange(len(net.chars))\n",
    "        else:\n",
    "            p, top_ch = p.topk(top_k)\n",
    "            top_ch = top_ch.numpy().squeeze()\n",
    "        \n",
    "        # select the likely next character with some element of randomness\n",
    "        p = p.numpy().squeeze()\n",
    "        char = np.random.choice(top_ch, p=p/p.sum())\n",
    "        \n",
    "        # return the encoded value of the predicted char and the hidden state\n",
    "        return net.int2char[char], h"
   ]
  },
  {
   "cell_type": "markdown",
   "metadata": {},
   "source": [
    "### Priming and generating text \n",
    "\n",
    "Typically you'll want to prime the network so you can build up a hidden state. Otherwise the network will start out generating characters at random. In general the first bunch of characters will be a little rough since it hasn't built up a long history of characters to predict from."
   ]
  },
  {
   "cell_type": "code",
   "execution_count": 18,
   "metadata": {},
   "outputs": [],
   "source": [
    "def sample(net, size, prime='The', top_k=None):\n",
    "        \n",
    "    if(train_on_gpu):\n",
    "        net.cuda()\n",
    "    else:\n",
    "        net.cpu()\n",
    "    \n",
    "    net.eval() # eval mode\n",
    "    \n",
    "    # First off, run through the prime characters\n",
    "    chars = [ch for ch in prime]\n",
    "    h = net.init_hidden(1)\n",
    "    for ch in prime:\n",
    "        char, h = predict(net, ch, h, top_k=top_k)\n",
    "\n",
    "    chars.append(char)\n",
    "    \n",
    "    # Now pass in the previous character and get a new one\n",
    "    for ii in range(size):\n",
    "        char, h = predict(net, chars[-1], h, top_k=top_k)\n",
    "        chars.append(char)\n",
    "\n",
    "    return ''.join(chars)"
   ]
  },
  {
   "cell_type": "code",
   "execution_count": 26,
   "metadata": {
    "scrolled": true
   },
   "outputs": [
    {
     "name": "stdout",
     "output_type": "stream",
     "text": [
      "Annad and handst of the said of the child, and the condinging at\n",
      "her the\n",
      "parition of the said. His brester her that the cander on his been of his counders and the samp and she was\n",
      "nother head and he said his say of the say, and his\n",
      "seal out of the streaking\n",
      "to had been his came off an the says and that her, and that the seeded the\n",
      "said the sound, and he\n",
      "had not to she went out on his, and had some that\n",
      "still at her\n",
      "this heald hind and thit had betting, and he her samited a still of\n",
      "her, when the some and strange at the cancertented and streng of the\n",
      "said of a convises of her same.\n",
      "\n",
      "\"I death out that the some,\" she said too to the camp to the\n",
      "sarmer to the say to him, but\n",
      "at her shands and the same thing one his fooness and had to her his frile and he saw, and the sond of the strought the\n",
      "prince the positating, this said at the\n",
      "child one, and he sourted the care, and he had nother and he stopt the say, and he was stoppledse to the care to the some of his sourt an and her him the same and the\n"
     ]
    }
   ],
   "source": [
    "print(sample(net, 1000, prime='Anna', top_k=3))"
   ]
  },
  {
   "cell_type": "markdown",
   "metadata": {},
   "source": [
    "## Loading a checkpoint"
   ]
  },
  {
   "cell_type": "code",
   "execution_count": 20,
   "metadata": {},
   "outputs": [],
   "source": [
    "# Here we have loaded in a model that trained over 20 epochs `rnn_20_epoch.net`\n",
    "with open('rnn_x_epoch.net', 'rb') as f:\n",
    "    checkpoint = torch.load(f)\n",
    "    \n",
    "loaded = CharRNN(checkpoint['tokens'], n_hidden=checkpoint['n_hidden'], n_layers=checkpoint['n_layers'])\n",
    "loaded.load_state_dict(checkpoint['state_dict'])"
   ]
  },
  {
   "cell_type": "code",
   "execution_count": 24,
   "metadata": {},
   "outputs": [
    {
     "name": "stdout",
     "output_type": "stream",
     "text": [
      "And Levin said inticart, the serfaritiof to the hans and she had, and sead at the fillersed ontere in a steps, and was a strow to she was\n",
      "not a say, he cares,\n",
      "and whet said in the hount was abous that went had bround alout to\n",
      "the fach of he had a crust\n",
      "held would be not before that a some himsall.\n",
      "\n",
      "Tto\n",
      "think on the pate, wher was his book the\n",
      "porsantically word at\n",
      "his seations of the poon would his fath his convaction, whither whithing to himserf on\n",
      "and the call her fate it, the pees in his firs in to been and her sathed\n",
      "which the sind and was now the prace of the pace trousing her from,\n",
      "that it\n",
      "was a sence of it, and stair and was the\n",
      "sige in her say of somain to his cere from alout the sime of incomatior of shate ther seness.\n",
      "\n",
      "\"Whone,\" she said, and souther\n",
      "that had hourd no mear hore and the searing wording if\n",
      "the position on one of\n",
      "the ferced, but any were to be that he had brong and have some to so tree the some of the sayt of the same, who camiates of the\n",
      "stornt of his seeted in the sound of a more. \"What the porest, but I winl three, I move hore and sounder this with the canco at the founderss was hand head of the foreted has sact on her and was to hear and\n",
      "chill fers it a porsion, where here, and the convistion\n",
      "of his, with all to sead alout the supe of into mister the say. The cross of it with\n",
      "she shown thaid a seally was the doising intersenior of the cale, they and him. That the say was that have him that the seess, but in the siding his seaking of the said.\n",
      "\"I how's take out in the cearte wife had, and the meand. He her home to she with her from a sares and the mide.\n",
      "\n",
      "There sood till so all his chooms.\n",
      "\n",
      "He, and sone thing him of\n",
      "her thing than the courring of the firted the\n",
      "condracaileds, and the stending of her thom his breated one with worded to the staid and had not that he was a princes him, to the deade on\n",
      "the same of his baid and were one when he had not began, he where was a surser her\n",
      "ferent, and shat and he was as hushed on the\n",
      "contured the sarmed, the fart of\n"
     ]
    }
   ],
   "source": [
    "# Sample using a loaded model\n",
    "print(sample(loaded, 2000, top_k=5, prime=\"And Levin said\"))"
   ]
  },
  {
   "cell_type": "code",
   "execution_count": null,
   "metadata": {},
   "outputs": [],
   "source": []
  }
 ],
 "metadata": {
  "kernelspec": {
   "display_name": "Python [default]",
   "language": "python",
   "name": "python3"
  },
  "language_info": {
   "codemirror_mode": {
    "name": "ipython",
    "version": 3
   },
   "file_extension": ".py",
   "mimetype": "text/x-python",
   "name": "python",
   "nbconvert_exporter": "python",
   "pygments_lexer": "ipython3",
   "version": "3.6.6"
  }
 },
 "nbformat": 4,
 "nbformat_minor": 2
}
